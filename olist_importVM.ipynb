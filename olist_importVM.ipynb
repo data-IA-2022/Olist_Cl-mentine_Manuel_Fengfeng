{
 "cells": [
  {
   "cell_type": "code",
   "execution_count": 16,
   "metadata": {},
   "outputs": [],
   "source": [
    "from sqlalchemy import create_engine\n",
    "import pandas as pd\n",
    "import os\n",
    "import glob"
   ]
  },
  {
   "cell_type": "code",
   "execution_count": 17,
   "metadata": {},
   "outputs": [],
   "source": [
    "# Set up the database connection with VM\n",
    "host = \"localhost\"\n",
    "port = 5433  # default Postgres port\n",
    "database = \"olist_g4\"\n",
    "username = \"postgres\"\n",
    "password = \"greta2023\"\n",
    "driver = \"postgresql+psycopg2\"\n",
    "engine = create_engine(f\"{driver}://{username}:{password}@{host}:{port}/{database}\")"
   ]
  },
  {
   "cell_type": "code",
   "execution_count": 18,
   "metadata": {},
   "outputs": [],
   "source": [
    "# read the CSV file into a pandas dataframe\n",
    "df = pd.read_csv(\"/home/fengfeng/Desktop/Formation_IA/OLIST/Olist_Clementine_Manuel_Fengfeng/archives/olist_order_reviews_dataset.csv\")\n",
    "\n",
    "# specify the table name\n",
    "table_name = \"olist_order_reviews_dataset_all\"\n",
    "\n",
    "# Write the data from the dataframe to the database\n",
    "df.to_sql(table_name, engine, if_exists=\"replace\", index=False)\n",
    "\n",
    "# Close the database connection\n",
    "engine.dispose()"
   ]
  }
 ],
 "metadata": {
  "kernelspec": {
   "display_name": "Env",
   "language": "python",
   "name": "python3"
  },
  "language_info": {
   "codemirror_mode": {
    "name": "ipython",
    "version": 3
   },
   "file_extension": ".py",
   "mimetype": "text/x-python",
   "name": "python",
   "nbconvert_exporter": "python",
   "pygments_lexer": "ipython3",
   "version": "3.10.6"
  },
  "orig_nbformat": 4,
  "vscode": {
   "interpreter": {
    "hash": "57fa5d3c29ef918e4d6bce3d71bde7168a61d418a6de91e10b869392b27c4c31"
   }
  }
 },
 "nbformat": 4,
 "nbformat_minor": 2
}
