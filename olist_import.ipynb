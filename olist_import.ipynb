{
 "cells": [
  {
   "cell_type": "code",
   "execution_count": null,
   "metadata": {},
   "outputs": [],
   "source": [
    "from sqlalchemy import create_engine\n",
    "import pandas as pd"
   ]
  },
  {
   "cell_type": "code",
   "execution_count": null,
   "metadata": {},
   "outputs": [],
   "source": [
    "# Set up the database connection\n",
    "host = \"olist-g4.francecentral.cloudapp.azure.com\"\n",
    "port = 5432  # default Postgres port\n",
    "database = \"olist_g4\"\n",
    "username = \"postgres\"\n",
    "password = \"greta2023\"\n",
    "engine = create_engine(f\"postgresql://{username}:{password}@{host}:{port}/{database}\")\n"
   ]
  },
  {
   "cell_type": "code",
   "execution_count": null,
   "metadata": {},
   "outputs": [],
   "source": [
    "# Set up the folder path and table names in the database\n",
    "folder_path = '/home/fengfeng/Desktop/Formation_IA/OLIST/Olist_Clementine_Manuel_Fengfeng/Env'\n",
    "table_names = ['table1', 'table2', 'table3']\n",
    "\n",
    "# Get a list of CSV file paths in the folder\n",
    "csv_paths = [os.path.join(folder_path, f) for f in os.listdir(folder_path) if f.endswith('.csv')]\n",
    "\n",
    "# Loop over the CSV files and send them to the database\n",
    "for i, csv_path in enumerate(csv_paths):\n",
    "    # Read the CSV file into a pandas dataframe\n",
    "    df = pd.read_csv(csv_path)\n",
    "\n",
    "    # Get the corresponding table name\n",
    "    table_name = table_names[i]\n",
    "\n",
    "    # Write the data from the dataframe to the database\n",
    "    df.to_sql(table_name, engine, if_exists=\"replace\", index=False)\n",
    "\n",
    "# Close the database connection\n",
    "engine.dispose()"
   ]
  }
 ],
 "metadata": {
  "kernelspec": {
   "display_name": "Env",
   "language": "python",
   "name": "python3"
  },
  "language_info": {
   "name": "python",
   "version": "3.10.6"
  },
  "orig_nbformat": 4
 },
 "nbformat": 4,
 "nbformat_minor": 2
}
